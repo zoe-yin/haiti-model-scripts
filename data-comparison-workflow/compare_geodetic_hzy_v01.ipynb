{
 "cells": [
  {
   "cell_type": "markdown",
   "metadata": {},
   "source": [
    "## Load synthetic InSAR Data and compare to Observations\n",
    "To be run in environment `seissol`\n",
    "\n",
    "This notebook is an adaptation of Mathilde's adaptation (`compare_geodqeticMM_mathilde-original.py`) of Thomas's code. "
   ]
  },
  {
   "cell_type": "code",
   "execution_count": 1,
   "metadata": {},
   "outputs": [],
   "source": [
    "import numpy as np\n",
    "import matplotlib.pyplot as plt\n",
    "import cartopy.crs as ccrs\n",
    "import cartopy.feature as cfeature\n",
    "import pandas as pd\n",
    "import os\n",
    "import shapefile as shp\n",
    "import rasterio\n",
    "import seissolxdmf\n",
    "import time\n",
    "from scipy import spatial\n",
    "from multiprocessing import Pool, cpu_count, Manager\n",
    "from pyproj import Transformer\n",
    "from cmcrameri import cm\n",
    "import matplotlib\n",
    "from rasterio.plot import show\n",
    "import scipy.interpolate as interp\n",
    "\n",
    "ps = 12 # set font size\n",
    "matplotlib.rcParams.update({\"font.size\": ps})\n",
    "plt.rcParams[\"font.family\"] = \"sans\"\n",
    "matplotlib.rc(\"xtick\", labelsize=ps)\n",
    "matplotlib.rc(\"ytick\", labelsize=ps)\n"
   ]
  },
  {
   "cell_type": "markdown",
   "metadata": {},
   "source": [
    "## Define Functions"
   ]
  },
  {
   "cell_type": "code",
   "execution_count": 64,
   "metadata": {},
   "outputs": [],
   "source": [
    "ps = 12 # set font size\n",
    "matplotlib.rcParams.update({\"font.size\": ps})\n",
    "plt.rcParams[\"font.family\"] = \"sans\"\n",
    "matplotlib.rc(\"xtick\", labelsize=ps)\n",
    "matplotlib.rc(\"ytick\", labelsize=ps)\n",
    "\n",
    "\n",
    "def nanrms(x, axis=None):\n",
    "    return np.sqrt(np.nanmean(x**2, axis=axis))\n",
    "\n",
    "def setup_map(ax,extentmap,gridlines_left=True, draw_labels=True):\n",
    "    \"\"\"Setup the background map with cartopy\"\"\"\n",
    "    ax.set_extent(extentmap, crs=ccrs.PlateCarree())\n",
    "    scale = \"10m\"\n",
    "    ax.add_feature(cfeature.LAND.with_scale(scale), facecolor='whitesmoke', rasterized=True)\n",
    "    ax.add_feature(cfeature.OCEAN.with_scale(scale), rasterized=True)\n",
    "    ax.add_feature(cfeature.COASTLINE.with_scale(scale))\n",
    "    ax.add_feature(cfeature.BORDERS.with_scale(scale), linestyle=\":\")\n",
    "    locs = np.arange(-180, 180, 1.0)\n",
    "    gl = ax.gridlines(draw_labels=draw_labels, ylocs=locs, xlocs=locs)\n",
    "    gl.right_labels = False\n",
    "    gl.top_labels = False\n",
    "    gl.left_labels = gridlines_left\n",
    "    for fn in [\n",
    "        \"/Users/hyin/agsd/projects/insar/2021_haiti/dynamic-rupture/fault-geometry/combined-drm-geometry_v05/combined-drm-geometry_v05.shp\" # shape file with fault traces, each as a line object\n",
    "    ]:\n",
    "        sf = shp.Reader(fn)\n",
    "        for sr in sf.shapeRecords():    # for each fualt?\n",
    "            listx = []\n",
    "            listy = []\n",
    "            for xNew, yNew in sr.shape.points:\n",
    "                listx.append(xNew)\n",
    "                listy.append(yNew)\n",
    "            ax.plot(listx, listy, \"k\", linewidth=0.5)\n",
    "\n",
    "def read_observation_data_one_band(fn):\n",
    "    with rasterio.open(fn) as src:\n",
    "        ew = src.read(1)\n",
    "        print(\"band 1 has shape\", ew.shape)\n",
    "        ds = downsampling\n",
    "        height, width = ew.shape\n",
    "        cols, rows = np.meshgrid(np.arange(width), np.arange(height))\n",
    "        lon_g, lat_g = rasterio.transform.xy(src.transform, rows, cols)\n",
    "        lon_g = np.array(lon_g)[::ds, ::ds]\n",
    "        lat_g = np.array(lat_g)[::ds, ::ds]\n",
    "        ew = ew[::ds, ::ds]\n",
    "        return lon_g, lat_g, ew\n",
    "\n",
    "\n",
    "def compute_LOS_displacement_SeisSol_data(\n",
    "    lon_g, lat_g, theta_g, phi_g, lonlat_barycenter, U, V, W\n",
    "):\n",
    "\n",
    "    if band == \"azimuth\":\n",
    "        D_los = U * np.sin(phi_g) + V * np.cos(phi_g)\n",
    "    else:\n",
    "        D_los = W * np.cos(theta_g) + np.sin(theta_g) * (\n",
    "            U * -np.cos(phi_g) + V * np.sin(phi_g)\n",
    "        )\n",
    "        # D_los = W * np.sin(theta_inter) + np.cos(theta_inter) * (U * np.cos(phi_inter) + V * np.sin(phi_inter))\n",
    "    return -D_los\n",
    "\n",
    "def compute_LOS_displacement_SeisSol_data2(lon_g, lat_g, vx, vy, vz, lonlat_barycenter, U,V,W):\n",
    "    D_los = U * vx + V * vy + W * vz\n",
    "    return -D_los\n",
    "    \n",
    "    \n",
    "def read_seissol_surface_data(xdmfFilename):\n",
    "    \"\"\"\n",
    "    Read unstructured free surface output and associated data.\n",
    "    compute cell_barycenter\n",
    "    \n",
    "    \n",
    "    Parameters\n",
    "    ----------\n",
    "    xdmfFilename : string\n",
    "        Full path to the .xdmf file\n",
    "\n",
    "    Returns\n",
    "    -------\n",
    "    lons, lats, lonlat_barycenter, connect, U, V, W\n",
    "    lons, lats: n x 1 array the locations of each grid point where surface deformation is defined in the model. \n",
    "        I believe this is in WGS84 but need to check\n",
    "        Where n is the number of points in the surface mesh\n",
    "        i.e. for Haiti low res mesh this is (16347,)\n",
    "    lonlat_barycenter: n x 2 array where each column is the lon and lat coords of the barycenter of a triangle\n",
    "        Where n is the number of triangles (need to check this!)\n",
    "        i.e. for Haiti low res mesh this is (32526, 2)\n",
    "    connect: n x 3 array, where the columns contain indices for the corners of each triangle at the surface\n",
    "    U, V, W: each are an nd-array where each is a component of modeled surface deformation:\n",
    "        U = u1\n",
    "        V = u2\n",
    "        W = u3\n",
    "    \"\"\"\n",
    "    sx = seissolxdmf.seissolxdmf(xdmfFilename)\n",
    "\n",
    "    xyz = sx.ReadGeometry()\n",
    "    connect = sx.ReadConnect()\n",
    "    U = sx.ReadData(\"u1\", sx.ndt - 1)\n",
    "    V = sx.ReadData(\"u2\", sx.ndt - 1)\n",
    "    W = sx.ReadData(\"u3\", sx.ndt - 1)\n",
    "    # project the data to geocentric (lat, lon)\n",
    "\n",
    "    myproj = \"+proj=tmerc +datum=WGS84 +k=0.9996 +lon_0=37.0 +lat_0=37.0\"\n",
    "    transformer = Transformer.from_crs(myproj, \"epsg:4326\", always_xy=True) # WGS84\n",
    "    lons, lats = transformer.transform(xyz[:, 0], xyz[:, 1])\n",
    "    xy = np.vstack((lons, lats)).T  # gives a grid of lon,lat values, need to check the format\n",
    "\n",
    "    # compute triangule barycenter\n",
    "    lonlat_barycenter = (\n",
    "        xy[connect[:, 0], :] + xy[connect[:, 1], :] + xy[connect[:, 2], :]\n",
    "    ) / 3.0\n",
    "\n",
    "    return lons, lats, lonlat_barycenter, connect, U, V, W\n",
    "\n",
    "def interpolate_seissol_surf_output(lonlat_barycenter, U, df):\n",
    "    \"\"\"interpolate SeisSol free surface output to GPS data location\"\"\"\n",
    "\n",
    "    Fvsm = interp.LinearNDInterpolator(lonlat_barycenter, U)\n",
    "    locGPS = np.vstack((df[\"lon\"].to_numpy(), df[\"lat\"].to_numpy())).T\n",
    "\n",
    "    Fvsm = interp.LinearNDInterpolator(lonlat_barycenter, U)\n",
    "    ui = Fvsm.__call__(locGPS)\n",
    "    Fvsm = interp.LinearNDInterpolator(lonlat_barycenter, V)\n",
    "    vi = Fvsm.__call__(locGPS)\n",
    "    Fvsm = interp.LinearNDInterpolator(lonlat_barycenter, W)\n",
    "    wi = Fvsm.__call__(locGPS)\n",
    "\n",
    "    return ui, vi, wi"
   ]
  },
  {
   "cell_type": "code",
   "execution_count": 67,
   "metadata": {},
   "outputs": [],
   "source": [
    "# Define SeisSol surface XDMF file\n",
    "xdmfFilename = '/Users/hyin/agsd/projects/insar/2021_haiti/dynamic-rupture/data_tmp/dynamic-rupture/jobid_3422948/output_extracted-surface.xdmf'\n",
    "# Read Modeled surface deformation data from surface xdmf\n",
    "lons2, lats2, lonlat_barycenter2, connect2, U2, V2, W2=read_seissol_surface_data(xdmfFilename)\n"
   ]
  },
  {
   "cell_type": "markdown",
   "metadata": {},
   "source": [
    "## Read in InSAR Observation data"
   ]
  },
  {
   "cell_type": "code",
   "execution_count": 66,
   "metadata": {},
   "outputs": [
    {
     "data": {
      "text/plain": [
       "<NumpyExtensionArray>\n",
       "[  285.8357, 285.840434, 285.845167, 285.849901, 285.854634, 285.859368,\n",
       " 285.864101, 285.868835, 285.873569, 285.878302,\n",
       " ...\n",
       " 286.484198, 286.488931, 286.493665, 286.498399, 286.503132, 286.507866,\n",
       " 286.512599, 286.517333, 286.522066,   286.5268]\n",
       "Length: 19110, dtype: float64"
      ]
     },
     "execution_count": 66,
     "metadata": {},
     "output_type": "execute_result"
    }
   ],
   "source": [
    "## Read in InSAR observation data\n",
    "# Write to geodataframe, with lon / lat fields as geometry\n",
    "# Set geometry reference frame as WGS84\n",
    "\n",
    "import geopandas as gpd\n",
    "\n",
    "filebase = 'A2_A043_20210818-20210901_los'\n",
    "df = pd.read_csv('data/csv/'+filebase+'.csv')\n",
    "gdf = gpd.GeoDataFrame(\n",
    "    geometry=gpd.points_from_xy(df.lon, df.lat, df.elevation, crs=\"EPSG:4326\"), data=df    \n",
    ")\n",
    "\n",
    "lon_obs, lat_obs = df.lon.array, df.lat.array\n",
    "\n",
    "lon_obs"
   ]
  },
  {
   "cell_type": "code",
   "execution_count": 68,
   "metadata": {},
   "outputs": [],
   "source": [
    "# Create an array with lons and lats of observations locations\n",
    "locData = np.vstack((lon_obs,lat_obs)).T"
   ]
  },
  {
   "cell_type": "code",
   "execution_count": 69,
   "metadata": {},
   "outputs": [],
   "source": [
    "## Interpolate modeled data at the barycenter of each triangle\n",
    "# Interpolate synthetic data to make it continuous \n",
    "Fvsm2 = interp.LinearNDInterpolator(lonlat_barycenter2, U2)\n",
    "# Find the x, y, z components of deformation (ui, vi, wi) at that observation point\n",
    "ui = Fvsm2.__call__(locData)\n",
    "Fvsm2 = interp.LinearNDInterpolator(lonlat_barycenter2, V2)\n",
    "vi = Fvsm2.__call__(locData)\n",
    "Fvsm2 = interp.LinearNDInterpolator(lonlat_barycenter2, W2)\n",
    "wi = Fvsm2.__call__(locData)"
   ]
  },
  {
   "cell_type": "markdown",
   "metadata": {},
   "source": [
    "## Plot initial data"
   ]
  },
  {
   "cell_type": "code",
   "execution_count": null,
   "metadata": {},
   "outputs": [],
   "source": [
    "# Plot figure\n",
    "vmax = 4.0\n",
    "vmin = -vmax\n",
    "if band in [\"azimuth\", \"range\"]:\n",
    "    extentmap=[36.6, 38.4, 36.7, 38.2]\n",
    "else:\n",
    "    extentmap=[36, 38.8, 36.0, 38.6]\n",
    "\n",
    "fig = plt.figure()\n",
    "fig.set_size_inches(5, 4.5)\n",
    "ax = []\n",
    "ax.append(fig.add_subplot(1, 1, 1, projection=ccrs.PlateCarree()))\n",
    "setup_map(ax[0],extentmap)\n",
    "show(obs_to_plot, transform=src.transform, cmap=cm.vik,vmin=vmin,vmax=vmax)"
   ]
  },
  {
   "cell_type": "markdown",
   "metadata": {},
   "source": [
    "## Misc\n",
    "Everything below here was worked on at various times and is now under construction"
   ]
  },
  {
   "cell_type": "markdown",
   "metadata": {},
   "source": [
    "Let's start by trying to understand how to read and look at the xdmf surface data\n",
    "Then we can adjust the InSAR data as needed and see if we can leverage existing workflows for .grd data "
   ]
  },
  {
   "cell_type": "code",
   "execution_count": 62,
   "metadata": {},
   "outputs": [],
   "source": [
    "xdmfFilename = '/Users/hyin/agsd/projects/insar/2021_haiti/dynamic-rupture/data_tmp/dynamic-rupture/jobid_3422948/output_extracted-surface.xdmf'\n",
    "\n",
    "#     \"\"\"read unstructured free surface output and associated data compute cell_barycenter\"\"\"\n",
    "# Returns: lons, lats, lonlat_barycenter, connect, U, V, W\n",
    "lons, lats, lonlat_barycenter, connect, U, V, W = read_seissol_surface_data(xdmfFilename)\n",
    "\n",
    "# connect is a (32526, 3) np array, where there are 35k trianges, and each column is the index of one vertex\n",
    "# lons is a (16347,) np array, where there are 16k vertices\n",
    "\n",
    "# Fvsm2 = interp.LinearNDInterpolator(lonlat_barycenter, U)\n",
    "# ui2 = Fvsm2.__call__(locData)\n",
    "# Fvsm2 = interp.LinearNDInterpolator(lonlat_barycenter, V)\n",
    "# vi2 = Fvsm2.__call__(locData)\n",
    "# Fvsm2 = interp.LinearNDInterpolator(lonlat_barycenter, W)\n",
    "# wi2 = Fvsm2.__call__(locData)\n",
    "\n",
    "# ui2, vi2, wi2 should be the components of surface deformation at observations points (locData)\n"
   ]
  },
  {
   "cell_type": "code",
   "execution_count": 63,
   "metadata": {},
   "outputs": [
    {
     "data": {
      "text/plain": [
       "(16347,)"
      ]
     },
     "execution_count": 63,
     "metadata": {},
     "output_type": "execute_result"
    }
   ],
   "source": [
    "# I don't understand what read_seissol_surface_data(xdmfFilename) is doing so I'm going to run it line by line here: \n",
    "\n",
    "xdmfFilename = '/Users/hyin/agsd/projects/insar/2021_haiti/dynamic-rupture/data_tmp/dynamic-rupture/jobid_3422948/output_extracted-surface.xdmf'\n",
    "\n",
    "\n",
    "sx = seissolxdmf.seissolxdmf(xdmfFilename)\n",
    "\n",
    "# x, y, z components of each point where the surface displacement is defined. \n",
    "xyz = sx.ReadGeometry() # xyz.shape is (16347, 3) np arrray\n",
    "connect = sx.ReadConnect()  # connect.shape is (32526, 3) np array\n",
    "\n",
    "# u1, u2, u3 are surface deformations at point\n",
    "# @todo: look up the sx.ReadData and sx.ReadConnect, sx.ndt class operators \n",
    "# (maybe in the seissoldxdmf pypi page)\n",
    "U = sx.ReadData(\"u1\", sx.ndt - 1)   \n",
    "V = sx.ReadData(\"u2\", sx.ndt - 1)\n",
    "W = sx.ReadData(\"u3\", sx.ndt - 1)\n",
    "\n",
    "# project the data to geocentric coords (lat, lon)\n",
    "# @todo: need to check this to adapt for my case \n",
    "# In Haiti, UTM is \"epgs:32618\"\n",
    "myproj = \"+proj=tmerc +datum=WGS84 +k=0.9996 +lon_0=37.0 +lat_0=37.0\"\n",
    "# myproj = \"epgs:32618\"\n",
    "transformer = Transformer.from_crs(myproj, \"epsg:4326\", always_xy=True) # WGS84\n",
    "lons, lats = transformer.transform(xyz[:, 0], xyz[:, 1])\n",
    "xy = np.vstack((lons, lats)).T  # Creates a grid of lon,lat values, need to check the format\n",
    "\n",
    "# compute triangule barycenter\n",
    "# lonlat_barycenter is a 32526 x 2 array, so there should be 32526 triangles\n",
    "lonlat_barycenter = (\n",
    "    xy[connect[:, 0], :] + xy[connect[:, 1], :] + xy[connect[:, 2], :]\n",
    ") / 3.0\n",
    "\n",
    "lons.shape\n"
   ]
  },
  {
   "cell_type": "markdown",
   "metadata": {},
   "source": [
    "## Read in Observation data"
   ]
  },
  {
   "cell_type": "code",
   "execution_count": 60,
   "metadata": {},
   "outputs": [
    {
     "data": {
      "text/plain": [
       "array([[nan, nan, nan, ..., nan, nan, nan],\n",
       "       [nan, nan, nan, ..., nan, nan, nan],\n",
       "       [nan, nan, nan, ..., nan, nan, nan],\n",
       "       ...,\n",
       "       [nan, nan, nan, ..., nan, nan, nan],\n",
       "       [nan, nan, nan, ..., nan, nan, nan],\n",
       "       [nan, nan, nan, ..., nan, nan, nan]], dtype=float32)"
      ]
     },
     "execution_count": 60,
     "metadata": {},
     "output_type": "execute_result"
    }
   ],
   "source": [
    "band='los184'       # define the datatype\n",
    "downsampling=1      # Downsampling factor\n",
    "\n",
    "if band in [\"los184\"]:\n",
    "    # Plot InSAR track 184\n",
    "    # Open geotif file\n",
    "    src=rasterio.open('/Users/hyin/ags_local/data/haiti_2021_insar/ALOS2_A042/20210101_20210827/los_ll_dtr.tif')\n",
    "    obs_to_plot=src.read(1)\n",
    "    obs_to_plot[obs_to_plot==-32767]=np.nan\n",
    "    obs_to_plot =  obs_to_plot/1e3  # Convert from mm to m\n",
    "\n",
    "    # # Read in observations @mathilde: are vx, vy, and vz the component of the look vector??\n",
    "    # fn = \"/home/mathilde/Bureau/Work/Turquie/data/zeyu/scanSAR_new/184/vx_ll_low.tif\"\n",
    "    # lon_g, lat_g, vx = read_observation_data_one_band(fn)\n",
    "    # fn = \"/home/mathilde/Bureau/Work/Turquie/data/zeyu/scanSAR_new/184/vy_ll_low.tif\"\n",
    "    # lon_g, lat_g, vy = read_observation_data_one_band(fn)\n",
    "    # fn = \"/home/mathilde/Bureau/Work/Turquie/data/zeyu/scanSAR_new/184/vz_ll_low.tif\"\n",
    "    # lon_g, lat_g, vz = read_observation_data_one_band(fn)\n",
    "elif band in [\"los77\"]:\n",
    "    # Plot InSAR track 77\n",
    "    src=rasterio.open('/home/mathilde/Bureau/Work/Turquie/data/zeyu/scanSAR_new/77/los_ll_low_nodata_filled.tif')\n",
    "    obs_to_plot=src.read(1)\n",
    "    obs_to_plot[obs_to_plot==-32767]=np.nan\n",
    "    obs_to_plot =  obs_to_plot/1e2\n",
    "    fn = \"/home/mathilde/Bureau/Work/Turquie/data/zeyu/scanSAR_new/77/vx_ll_low.tif\"\n",
    "    lon_g, lat_g, vx = read_observation_data_one_band(fn)\n",
    "    fn = \"/home/mathilde/Bureau/Work/Turquie/data/zeyu/scanSAR_new/77/vy_ll_low.tif\"\n",
    "    lon_g, lat_g, vy = read_observation_data_one_band(fn)\n",
    "    fn = \"/home/mathilde/Bureau/Work/Turquie/data/zeyu/scanSAR_new/77/vz_ll_low.tif\"\n",
    "    lon_g, lat_g, vz = read_observation_data_one_band(fn)    \n",
    "elif band in [\"azimuth\", \"range\"]:\n",
    "    fn = f\"/home/mathilde/Bureau/Work/Turquie/data/sar_offset/Displacement_TUR_20230114_20230207_1529_Data/20230114_HH_20230207_HH.spo_{band}.filtered.geo.tif\"\n",
    "    lon_g, lat_g, obsLOS = read_observation_data_one_band(fn)\n",
    "    src=rasterio.open(f\"/home/mathilde/Bureau/Work/Turquie/data/sar_offset/Displacement_TUR_20230114_20230207_1529_Data/20230114_HH_20230207_HH.spo_{band}.filtered.geo.tif\")\n",
    "    obs_to_plot=src.read(1)\n",
    "    obs_to_plot[obs_to_plot==0]=np.nan\n",
    "    fn = \"/home/mathilde/Bureau/Work/Turquie/data/sar_offset/Displacement_TUR_20230114_20230207_1529_Data/20230114_HH_lv_phi.geo.tif\"\n",
    "    lon_g, lat_g, phi_g = read_observation_data_one_band(fn)\n",
    "    fn = \"/home/mathilde/Bureau/Work/Turquie/data/sar_offset/Displacement_TUR_20230114_20230207_1529_Data/20230114_HH_lv_theta.geo.tif\"\n",
    "    lon_g, lat_g, theta_g = read_observation_data_one_band(fn)\n",
    "\n",
    "# src\n",
    "obs_to_plot"
   ]
  },
  {
   "cell_type": "markdown",
   "metadata": {},
   "source": [
    "## Interpolate SeisSol ouput at data locations"
   ]
  },
  {
   "cell_type": "code",
   "execution_count": 52,
   "metadata": {},
   "outputs": [],
   "source": [
    "xdmfFilename2 = '/Users/hyin/agsd/projects/insar/2021_haiti/dynamic-rupture/data_tmp/dynamic-rupture/jobid_3422948/output_extracted-surface.xdmf'\n",
    "\n",
    "## Read in XDMF file\n",
    "lons, lats, lonlat_barycenter, connect, U, V, W=read_seissol_surface_data(xdmfFilename2)\n",
    "\n",
    "# # Read SeisSol output and interpolate output to GPS data point locations\n",
    "# xdmffile = '/Users/hyin/agsd/projects/insar/2021_haiti/dynamic-rupture/data_tmp/dynamic-rupture/jobid_3422948/output_extracted-surface.xdmf'\n",
    "\n",
    "# lons, lats, lonlat_barycenter, connect, U, V, W = read_seissol_surface_data(\n",
    "#     xdmffile, event=1\n",
    "# )\n",
    "\n",
    "ui, vi, wi = interpolate_seissol_surf_output(lonlat_barycenter, U, df)\n"
   ]
  },
  {
   "cell_type": "code",
   "execution_count": 56,
   "metadata": {},
   "outputs": [
    {
     "ename": "NameError",
     "evalue": "name 'pd' is not defined",
     "output_type": "error",
     "traceback": [
      "\u001b[0;31m---------------------------------------------------------------------------\u001b[0m",
      "\u001b[0;31mNameError\u001b[0m                                 Traceback (most recent call last)",
      "Cell \u001b[0;32mIn[56], line 3\u001b[0m\n\u001b[1;32m      1\u001b[0m \u001b[38;5;66;03m## Load InSAR Data\u001b[39;00m\n\u001b[1;32m      2\u001b[0m filebase \u001b[38;5;241m=\u001b[39m \u001b[38;5;124m'\u001b[39m\u001b[38;5;124mA2_A043_20210818-20210901_los\u001b[39m\u001b[38;5;124m'\u001b[39m\n\u001b[0;32m----> 3\u001b[0m df \u001b[38;5;241m=\u001b[39m \u001b[43mpd\u001b[49m\u001b[38;5;241m.\u001b[39mread_csv(\u001b[38;5;124m'\u001b[39m\u001b[38;5;124mdata/csv/\u001b[39m\u001b[38;5;124m'\u001b[39m\u001b[38;5;241m+\u001b[39mfilebase\u001b[38;5;241m+\u001b[39m\u001b[38;5;124m'\u001b[39m\u001b[38;5;124m.csv\u001b[39m\u001b[38;5;124m'\u001b[39m)\n\u001b[1;32m      5\u001b[0m \u001b[38;5;66;03m# Write to geodataframe, with lon / lat fields as geometry\u001b[39;00m\n\u001b[1;32m      6\u001b[0m \u001b[38;5;66;03m# Set geometry reference frame as WGS84\u001b[39;00m\n\u001b[1;32m      7\u001b[0m gdf \u001b[38;5;241m=\u001b[39m gpd\u001b[38;5;241m.\u001b[39mGeoDataFrame(\n\u001b[1;32m      8\u001b[0m     geometry\u001b[38;5;241m=\u001b[39mgpd\u001b[38;5;241m.\u001b[39mpoints_from_xy(df\u001b[38;5;241m.\u001b[39mlon, df\u001b[38;5;241m.\u001b[39mlat, df\u001b[38;5;241m.\u001b[39melevation, crs\u001b[38;5;241m=\u001b[39m\u001b[38;5;124m\"\u001b[39m\u001b[38;5;124mEPSG:4326\u001b[39m\u001b[38;5;124m\"\u001b[39m), data\u001b[38;5;241m=\u001b[39mdf    \n\u001b[1;32m      9\u001b[0m )\n",
      "\u001b[0;31mNameError\u001b[0m: name 'pd' is not defined"
     ]
    }
   ],
   "source": [
    "## Load InSAR Data\n",
    "filebase = 'A2_A043_20210818-20210901_los'\n",
    "df = pd.read_csv('data/csv/'+filebase+'.csv')\n",
    "\n",
    "# Write to geodataframe, with lon / lat fields as geometry\n",
    "# Set geometry reference frame as WGS84\n",
    "gdf = gpd.GeoDataFrame(\n",
    "    geometry=gpd.points_from_xy(df.lon, df.lat, df.elevation, crs=\"EPSG:4326\"), data=df    \n",
    ")\n",
    "\n",
    "# Convert from WGS to UTM\n",
    "gdf_utm = gdf.to_crs(epsg=32618)\n",
    "\n",
    "# Pull UTM coords \n",
    "coords_df = gdf_utm.get_coordinates(include_z=True)\n",
    "coords_df"
   ]
  },
  {
   "cell_type": "code",
   "execution_count": 53,
   "metadata": {},
   "outputs": [
    {
     "ename": "AttributeError",
     "evalue": "'list' object has no attribute 'flatten'",
     "output_type": "error",
     "traceback": [
      "\u001b[0;31m---------------------------------------------------------------------------\u001b[0m",
      "\u001b[0;31mAttributeError\u001b[0m                            Traceback (most recent call last)",
      "Cell \u001b[0;32mIn[53], line 8\u001b[0m\n\u001b[1;32m      5\u001b[0m lon_g \u001b[38;5;241m=\u001b[39m [\u001b[38;5;241m3\u001b[39m, \u001b[38;5;241m4\u001b[39m, \u001b[38;5;241m5\u001b[39m]\n\u001b[1;32m      6\u001b[0m lat_g \u001b[38;5;241m=\u001b[39m [\u001b[38;5;241m10\u001b[39m, \u001b[38;5;241m11\u001b[39m, \u001b[38;5;241m12\u001b[39m]\n\u001b[0;32m----> 8\u001b[0m locData \u001b[38;5;241m=\u001b[39m np\u001b[38;5;241m.\u001b[39mvstack((\u001b[43mlon_g\u001b[49m\u001b[38;5;241;43m.\u001b[39;49m\u001b[43mflatten\u001b[49m(),lat_g\u001b[38;5;241m.\u001b[39mflatten()))\u001b[38;5;241m.\u001b[39mT\n",
      "\u001b[0;31mAttributeError\u001b[0m: 'list' object has no attribute 'flatten'"
     ]
    }
   ],
   "source": [
    "# Get the lat lon location of observation data\n",
    "\n",
    "# Fvsm = interp.LinearNDInterpolator(lonlat_barycenter, U)\n",
    "\n",
    "## I don't understand what format it expects observation data/locations in\n",
    "# Need to figure out what format locData should be in .\n",
    "# Pull observation lats and lons\n",
    "\n",
    "\n",
    "coords_df = gdf_utm.get_coordinates(include_z=True)\n",
    "\n",
    "\n",
    "# lon_g = \n",
    "# lat_g = \n",
    "\n",
    "# locData = np.vstack((lon_g.flatten(),lat_g.flatten())).T\n"
   ]
  },
  {
   "cell_type": "code",
   "execution_count": 49,
   "metadata": {},
   "outputs": [
    {
     "ename": "FileNotFoundError",
     "evalue": "[Errno 2] No such file or directory: '/home/mathilde/Bureau/Work/Turquie/dynamic_rupture/prefered_model_thomas/ouput_model_2603_s205/Turkey_2events_31mio_o5_2603_s205last-surface.xdmf'",
     "output_type": "error",
     "traceback": [
      "\u001b[0;31m---------------------------------------------------------------------------\u001b[0m",
      "\u001b[0;31mFileNotFoundError\u001b[0m                         Traceback (most recent call last)",
      "Cell \u001b[0;32mIn[49], line 19\u001b[0m\n\u001b[1;32m     12\u001b[0m xdmfFilename2  \u001b[38;5;241m=\u001b[39m\u001b[38;5;124m'\u001b[39m\u001b[38;5;124m/home/mathilde/Bureau/Work/Turquie/dynamic_rupture/prefered_model_thomas/ouput_model_2603_s205/Turkey_2events_31mio_o5_2603_s205last-surface.xdmf\u001b[39m\u001b[38;5;124m'\u001b[39m\n\u001b[1;32m     14\u001b[0m \u001b[38;5;66;03m#Model published in Science:\u001b[39;00m\n\u001b[1;32m     15\u001b[0m \u001b[38;5;66;03m#xdmfFilename2 = '/home/mathilde/Bureau/Work/Turquie/dynamic_rupture/NewSim_event1/lastmodelThomas/sum_Turkey_31M_o5_el_ev1_2500_s2_05_al065_R056last-surface.xdmf'\u001b[39;00m\n\u001b[1;32m     16\u001b[0m \n\u001b[1;32m     17\u001b[0m \n\u001b[1;32m     18\u001b[0m \u001b[38;5;66;03m## Read in XDMF file\u001b[39;00m\n\u001b[0;32m---> 19\u001b[0m lons, lats, lonlat_barycenter, connect, U, V, W\u001b[38;5;241m=\u001b[39m\u001b[43mread_seissol_surface_data\u001b[49m\u001b[43m(\u001b[49m\u001b[43mxdmfFilename2\u001b[49m\u001b[43m)\u001b[49m\n\u001b[1;32m     21\u001b[0m \u001b[38;5;66;03m# Get the lat lon location of observation data\u001b[39;00m\n\u001b[1;32m     22\u001b[0m \n\u001b[1;32m     23\u001b[0m \u001b[38;5;66;03m# Fvsm = interp.LinearNDInterpolator(lonlat_barycenter, U)\u001b[39;00m\n\u001b[1;32m     25\u001b[0m lon_g \u001b[38;5;241m=\u001b[39m [\u001b[38;5;241m3\u001b[39m, \u001b[38;5;241m4\u001b[39m, \u001b[38;5;241m5\u001b[39m]\n",
      "Cell \u001b[0;32mIn[45], line 95\u001b[0m, in \u001b[0;36mread_seissol_surface_data\u001b[0;34m(xdmfFilename)\u001b[0m\n\u001b[1;32m     68\u001b[0m \u001b[38;5;28;01mdef\u001b[39;00m \u001b[38;5;21mread_seissol_surface_data\u001b[39m(xdmfFilename):\n\u001b[1;32m     69\u001b[0m \u001b[38;5;250m    \u001b[39m\u001b[38;5;124;03m\"\"\"\u001b[39;00m\n\u001b[1;32m     70\u001b[0m \u001b[38;5;124;03m    Read unstructured free surface output and associated data.\u001b[39;00m\n\u001b[1;32m     71\u001b[0m \u001b[38;5;124;03m    compute cell_barycenter\u001b[39;00m\n\u001b[0;32m   (...)\u001b[0m\n\u001b[1;32m     93\u001b[0m \u001b[38;5;124;03m        W = u3\u001b[39;00m\n\u001b[1;32m     94\u001b[0m \u001b[38;5;124;03m    \"\"\"\u001b[39;00m\n\u001b[0;32m---> 95\u001b[0m     sx \u001b[38;5;241m=\u001b[39m \u001b[43mseissolxdmf\u001b[49m\u001b[38;5;241;43m.\u001b[39;49m\u001b[43mseissolxdmf\u001b[49m\u001b[43m(\u001b[49m\u001b[43mxdmfFilename\u001b[49m\u001b[43m)\u001b[49m\n\u001b[1;32m     97\u001b[0m     xyz \u001b[38;5;241m=\u001b[39m sx\u001b[38;5;241m.\u001b[39mReadGeometry()\n\u001b[1;32m     98\u001b[0m     connect \u001b[38;5;241m=\u001b[39m sx\u001b[38;5;241m.\u001b[39mReadConnect()\n",
      "File \u001b[0;32m~/miniconda3/envs/seissol/lib/python3.12/site-packages/seissolxdmf/seissolxdmf.py:14\u001b[0m, in \u001b[0;36mseissolxdmf.__init__\u001b[0;34m(self, xdmfFilename)\u001b[0m\n\u001b[1;32m     12\u001b[0m \u001b[38;5;28;01mdef\u001b[39;00m \u001b[38;5;21m__init__\u001b[39m(\u001b[38;5;28mself\u001b[39m, xdmfFilename):\n\u001b[1;32m     13\u001b[0m     \u001b[38;5;28mself\u001b[39m\u001b[38;5;241m.\u001b[39mxdmfFilename \u001b[38;5;241m=\u001b[39m xdmfFilename\n\u001b[0;32m---> 14\u001b[0m     \u001b[38;5;28;01mwith\u001b[39;00m \u001b[38;5;28;43mopen\u001b[39;49m\u001b[43m \u001b[49m\u001b[43m(\u001b[49m\u001b[43mxdmfFilename\u001b[49m\u001b[43m,\u001b[49m\u001b[43m \u001b[49m\u001b[38;5;124;43m\"\u001b[39;49m\u001b[38;5;124;43mr\u001b[39;49m\u001b[38;5;124;43m\"\u001b[39;49m\u001b[43m)\u001b[49m \u001b[38;5;28;01mas\u001b[39;00m fid:\n\u001b[1;32m     15\u001b[0m         lines\u001b[38;5;241m=\u001b[39mfid\u001b[38;5;241m.\u001b[39mreadlines()\n\u001b[1;32m     16\u001b[0m     \u001b[38;5;66;03m# Remove potential extra content at the end of the file\u001b[39;00m\n",
      "\u001b[0;31mFileNotFoundError\u001b[0m: [Errno 2] No such file or directory: '/home/mathilde/Bureau/Work/Turquie/dynamic_rupture/prefered_model_thomas/ouput_model_2603_s205/Turkey_2events_31mio_o5_2603_s205last-surface.xdmf'"
     ]
    }
   ],
   "source": [
    "\n",
    "\n",
    "# ui1 = Fvsm.__call__(locData)\n",
    "# Fvsm = interp.LinearNDInterpolator(lonlat_barycenter, V)\n",
    "# vi1 = Fvsm.__call__(locData)\n",
    "# Fvsm = interp.LinearNDInterpolator(lonlat_barycenter, W)\n",
    "# wi1 = Fvsm.__call__(locData)    \n",
    "\n",
    "\n",
    "# I think this duplicate step was intended to sum synthetic contributions from \n",
    "# both events in the Turkey doublet if needed. Can ignore for now. \n",
    "lons2, lats2, lonlat_barycenter2, connect2, U2, V2, W2=read_seissol_surface_data(xdmfFilename2)\n",
    "\n",
    "# ui, vi, wi should be  the interpolated values of deformation at observation points\n",
    "Fvsm2 = interp.LinearNDInterpolator(lonlat_barycenter2, U2)\n",
    "ui2 = Fvsm2.__call__(locData)\n",
    "Fvsm2 = interp.LinearNDInterpolator(lonlat_barycenter2, V2)\n",
    "vi2 = Fvsm2.__call__(locData)\n",
    "Fvsm2 = interp.LinearNDInterpolator(lonlat_barycenter2, W2)\n",
    "wi2 = Fvsm2.__call__(locData)\n",
    "\n",
    "#ui = ui1 + ui2\n",
    "#vi = vi1 + vi2\n",
    "#wi = wi1 + wi2\n",
    "\n",
    "ui = ui2\n",
    "vi = vi2\n",
    "wi = wi2\n",
    "\n",
    "ui"
   ]
  },
  {
   "cell_type": "code",
   "execution_count": null,
   "metadata": {},
   "outputs": [],
   "source": [
    "\n",
    "# Plot figure\n",
    "vmax = 4.0\n",
    "vmin = -vmax\n",
    "if band in [\"azimuth\", \"range\"]:\n",
    "    extentmap=[36.6, 38.4, 36.7, 38.2]\n",
    "else:\n",
    "    extentmap=[36, 38.8, 36.0, 38.6]\n",
    "\n",
    "fig = plt.figure()\n",
    "fig.set_size_inches(5, 4.5)\n",
    "ax = []\n",
    "ax.append(fig.add_subplot(1, 1, 1, projection=ccrs.PlateCarree()))\n",
    "setup_map(ax[0],extentmap)\n",
    "show(obs_to_plot, transform=src.transform, cmap=cm.vik,vmin=vmin,vmax=vmax)\n",
    "\n",
    "if band=='los77':\n",
    "    syn_to_plot = compute_LOS_displacement_SeisSol_data2(\n",
    "        lon_g, lat_g, vx.flatten(), vy.flatten(), vz.flatten(), lonlat_barycenter, ui,vi,wi)\n",
    "    syn_to_plot = np.reshape(syn_to_plot, (np.max(np.shape(vx)), np.min(np.shape(vx))))\n",
    "elif band=='los184':\n",
    "    syn_to_plot = compute_LOS_displacement_SeisSol_data2(\n",
    "        lon_g, lat_g, vx.flatten(), vy.flatten(), vz.flatten(), lonlat_barycenter, ui,vi,wi)\n",
    "    syn_to_plot = np.reshape(syn_to_plot, (np.max(np.shape(vx)), np.min(np.shape(vx))))    \n",
    "elif band=='EW':\n",
    "    syn_to_plot = ui\n",
    "    syn_to_plot = np.reshape(syn_to_plot, (np.min(np.shape(obs_to_plot)), np.max(np.shape(obs_to_plot))))\n",
    "elif band=='NS':\n",
    "    syn_to_plot = vi\n",
    "    syn_to_plot = np.reshape(syn_to_plot, (np.min(np.shape(obs_to_plot)), np.max(np.shape(obs_to_plot))))    \n",
    "elif band in ['azimuth','range']:\n",
    "    syn_to_plot = compute_LOS_displacement_SeisSol_data(\n",
    "                lon_g, lat_g, theta_g.flatten(), phi_g.flatten(), lonlat_barycenter, ui, vi, wi)\n",
    "    syn_to_plot = np.reshape(syn_to_plot, (np.max(np.shape(obs_to_plot)), np.min(np.shape(obs_to_plot))))        \n",
    "\n",
    "# Remove predictions where data is NaN\n",
    "ind=np.isnan(obs_to_plot)\n",
    "syn_to_plot[ind]=np.nan\n",
    "\n",
    "## Plot residuals\n",
    "#ind=np.isfinite(obs_to_plot)\n",
    "res=obs_to_plot - syn_to_plot\n",
    "ind=np.isfinite(res)\n",
    "res = res[ind]\n",
    "\n",
    "N=max(np.shape(res))\n",
    "rms=np.sqrt(np.nansum(res**2)/N);\n",
    "rms2 = nanrms(res)\n",
    "print('RMS',band,':',np.round(rms,4),'m')\n",
    "\n",
    "\n",
    "if band in ['azimuth','range']:\n",
    "    ax.append(fig.add_axes([.485, 0.13, 0.40,0.40],projection=ccrs.PlateCarree()))\n",
    "else:\n",
    "    ax.append(fig.add_axes([.485, 0.12, 0.40,0.40],projection=ccrs.PlateCarree()))\n",
    "    #ax.append(fig.add_axes([.485, 0.12, 0.40,0.40],projection=ccrs.PlateCarree()))  \n",
    "    \n",
    "ax[1].set_extent(extentmap)\n",
    "setup_map(ax[1],extentmap,gridlines_left=False, draw_labels=False)\n",
    "show(syn_to_plot, transform=src.transform, cmap=cm.vik,vmin=-vmax,vmax=vmax) \n",
    "\n",
    "#fn = f\"comparison_geodetic_{band}_TSR.png\"\n",
    "#plt.savefig(fn, dpi=300, bbox_inches=\"tight\")\n",
    "#print(f\"done writing {fn}\")\n",
    "#plt.show()"
   ]
  }
 ],
 "metadata": {
  "kernelspec": {
   "display_name": "seissol",
   "language": "python",
   "name": "python3"
  },
  "language_info": {
   "codemirror_mode": {
    "name": "ipython",
    "version": 3
   },
   "file_extension": ".py",
   "mimetype": "text/x-python",
   "name": "python",
   "nbconvert_exporter": "python",
   "pygments_lexer": "ipython3",
   "version": "3.12.0"
  }
 },
 "nbformat": 4,
 "nbformat_minor": 2
}
