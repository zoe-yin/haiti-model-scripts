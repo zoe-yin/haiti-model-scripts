{
 "cells": [
  {
   "cell_type": "code",
   "execution_count": 5,
   "metadata": {},
   "outputs": [],
   "source": [
    "## This chunk of code was given my Mathilde via Slack \n",
    "## on Thurs, Jun 20 @ 8:55 am\n",
    "\n",
    "# Mathilde suggests to integrate this in a script that produces \n",
    "# xdmf/h5 files to look at the result on supermuc.\n",
    "\n",
    "# You need as input file either the fault output from seisol \n",
    "# (you need only the first time step and Ts0, Td0, and Pn0, mu_d) \n",
    "# or the output file of read_ini_fault_parameter.py (with the same variables)\n",
    "\n",
    "# what would be convenient would be to modify  read_ini_fault_parameter.py \n",
    "# to add the part that compute R, so everything is done in one step\n",
    "\n",
    "import seissolxdmf\n",
    "import seissolxdmfwriter as sxw\n",
    "import numpy as np\n",
    "import glob\n",
    "import os\n",
    "\n",
    "\n",
    "jobid = '3457692'\n",
    "\n",
    "def find_xdmffile_wahweap(jobid):\n",
    "    \"\"\"Find XDMF file on wahweap. \n",
    "    Given a jobid, returns a string which is the full pat to the extracted-fault.xdmf file on Wahweap laptop\n",
    "\n",
    "    Args:\n",
    "        jobid (string): i.e. '3438438'\n",
    "    Return: \n",
    "        xdmfFilename (string): full path to the extracted-fault.xdmf file matching the jobid\n",
    "    \"\"\"\n",
    "    # Example full path to xdmf:\n",
    "    # /Users/hyin/agsd/projects/insar/2021_haiti/dynamic-rupture/data_tmp/dynamic-rupture/FL33-only/jobid_3440215/output_jobid_3440215_extracted-fault.xdmf\n",
    "\n",
    "    datadir = '/Users/hyin/ags_local/data/haiti_seissol_data/'\n",
    "    xdmfFilename = glob.glob(datadir + 'dynamic-rupture/*/jobid_'+jobid+'/*extracted-fault.xdmf')[0]\n",
    "    return xdmfFilename\n",
    "\n",
    "xdmfFilename = find_xdmffile_wahweap(jobid)"
   ]
  },
  {
   "cell_type": "code",
   "execution_count": 6,
   "metadata": {},
   "outputs": [],
   "source": [
    "sx = seissolxdmf.seissolxdmf(xdmfFilename)\n",
    "\n",
    "# x, y, z components of each point where the surface displacement is defined. \n",
    "xyz = sx.ReadGeometry() # xyz.shape is (16347, 3) np arrray\n",
    "connect = sx.ReadConnect()  # connect.shape is (32526, 3) np array\n",
    "\n",
    "\n",
    "# define the barycenter of each element\n",
    "barycenter = (\n",
    "    xyz[connect[:, 0], :]\n",
    "    + xyz[connect[:, 1], :]\n",
    "    + xyz[connect[:, 2], :]\n",
    ") / 3.0\n",
    "\n",
    "# define cohesion in each element\n",
    "cohesion = np.maximum((barycenter[:, 2] + 3000) / 3000, 0) * 1e6 + 0.5e6\n",
    "\n",
    "# define time step you wish to extract (@todo: is this right?)\n",
    "dt = sx.ReadTimeStep()\n",
    "outputTimes = sx.ReadTimes()\n",
    "idt = int(outputTimes[0])    # Pull first time step\n",
    "idt\n",
    "\n",
    "# Pull data from the xdmf file\n",
    "mu_st = sx.ReadData(\"Mud\", idt) # @todo: this variable is not output in output-fault.xdmf\n",
    "Ts0 = sx.ReadData(\"Ts0\", idt)\n",
    "Td0 = sx.ReadData(\"Td0\", idt)\n",
    "Pn0 = abs(sx.ReadData(\"Pn0\", idt))\n",
    "\n",
    "\n",
    "# manually define dynamic coefficient of friction\n",
    "mu_dy = 0.2\n",
    "\n",
    "# Calculate the value of R. @todo: is there a good cite for this formula? \n",
    "myData = (np.sqrt(np.power(Ts0, 2) + np.power(Td0, 2)) - mu_dy * Pn0) / (\n",
    "    (mu_st - mu_dy)* Pn0 + cohesion\n",
    ")"
   ]
  },
  {
   "cell_type": "markdown",
   "metadata": {},
   "source": [
    "## Rewrite this data to a new xdmf file"
   ]
  },
  {
   "cell_type": "code",
   "execution_count": 7,
   "metadata": {},
   "outputs": [
    {
     "name": "stdout",
     "output_type": "stream",
     "text": [
      "done writing /Users/hyin/ags_local/data/haiti_seissol_data/dynamic-rupture/FL33-only/jobid_3457692/jobid_3457692_R-fault.xdmf\n",
      "full path: /Users/hyin/ags_local/data/haiti_seissol_data/dynamic-rupture/FL33-only/jobid_3457692/jobid_3457692_R-fault.xdmf\n",
      "done writing /Users/hyin/ags_local/data/haiti_seissol_data/dynamic-rupture/FL33-only/jobid_3457692/jobid_3457692_R-fault.h5\n"
     ]
    }
   ],
   "source": [
    "\n",
    "# Pull other data fields\n",
    "geom = sx.ReadGeometry()\n",
    "connect = sx.ReadConnect()\n",
    "\n",
    "# Write all selected time steps to files dCFS-fault.xdmf/dCFS-fault.h5\n",
    "outpath = os.path.dirname(xdmfFilename)\n",
    "outfile = outpath + '/jobid_'+jobid+'_R-fault'\n",
    "sxw.write(\n",
    "    outfile,\n",
    "    geom,\n",
    "    connect,\n",
    "    {\"R\": myData},\n",
    "    {idt: 0},\n",
    "    reduce_precision=True,\n",
    "    backend=\"hdf5\",\n",
    ")"
   ]
  }
 ],
 "metadata": {
  "kernelspec": {
   "display_name": "seissol",
   "language": "python",
   "name": "python3"
  },
  "language_info": {
   "codemirror_mode": {
    "name": "ipython",
    "version": 3
   },
   "file_extension": ".py",
   "mimetype": "text/x-python",
   "name": "python",
   "nbconvert_exporter": "python",
   "pygments_lexer": "ipython3",
   "version": "3.12.0"
  }
 },
 "nbformat": 4,
 "nbformat_minor": 2
}
